{
  "nbformat": 4,
  "nbformat_minor": 0,
  "metadata": {
    "colab": {
      "provenance": [],
      "authorship_tag": "ABX9TyNFsL8h31PbPyHNTOZxSyPb",
      "include_colab_link": true
    },
    "kernelspec": {
      "name": "python3",
      "display_name": "Python 3"
    },
    "language_info": {
      "name": "python"
    }
  },
  "cells": [
    {
      "cell_type": "markdown",
      "metadata": {
        "id": "view-in-github",
        "colab_type": "text"
      },
      "source": [
        "<a href=\"https://colab.research.google.com/github/sundaybest3/NounSmart_countability/blob/main/countability.ipynb\" target=\"_parent\"><img src=\"https://colab.research.google.com/assets/colab-badge.svg\" alt=\"Open In Colab\"/></a>"
      ]
    },
    {
      "cell_type": "code",
      "source": [
        "%%capture\n",
        "!pip install gradio pandas\n",
        "\n"
      ],
      "metadata": {
        "id": "pOTS1HHV-kOT"
      },
      "execution_count": null,
      "outputs": []
    },
    {
      "cell_type": "code",
      "source": [
        "import gradio as gr\n",
        "import pandas as pd\n",
        "import random\n",
        "\n",
        "# Load the CSV file\n",
        "csv_url = \"https://raw.githubusercontent.com/sundaybest3/NounSmart_countability/refs/heads/main/nouns_CE_visang.csv\"\n",
        "df = pd.read_csv(csv_url)\n",
        "\n",
        "# Inspect the columns\n",
        "expected_columns = [\"Page\", \"Word\", \"Countability\"]\n",
        "missing_columns = [col for col in expected_columns if col not in df.columns]\n",
        "if missing_columns:\n",
        "    raise ValueError(f\"The following required columns are missing in the CSV: {', '.join(missing_columns)}\")\n",
        "\n",
        "# Initialize game state\n",
        "game_state = {\n",
        "    \"nickname\": None,\n",
        "    \"page\": None,\n",
        "    \"current_noun\": None,\n",
        "    \"remaining_nouns\": None,\n",
        "    \"score\": 0,\n",
        "    \"trials\": 0,\n",
        "}\n",
        "\n",
        "# Function to filter nouns by page and prepare the list of nouns\n",
        "def initialize_nouns(page):\n",
        "    filtered_df = df[df[\"Page\"] == page]\n",
        "    if filtered_df.empty:\n",
        "        return \"No nouns available for this page. Please select a different page.\"\n",
        "    game_state[\"remaining_nouns\"] = filtered_df.sample(frac=1).to_dict(orient=\"records\")\n",
        "    return show_random_noun()\n",
        "\n",
        "# Function to show a random noun\n",
        "def show_random_noun():\n",
        "    if not game_state[\"remaining_nouns\"]:\n",
        "        return f\"🎉 Great job, {game_state['nickname']}! All nouns have been answered correctly. (Score: {game_state['score']}/{game_state['trials']})\"\n",
        "\n",
        "    game_state[\"current_noun\"] = game_state[\"remaining_nouns\"].pop()\n",
        "    return game_state[\"current_noun\"][\"Word\"]\n",
        "\n",
        "# Function to check user's answer\n",
        "def check_answer(user_choice):\n",
        "    if not game_state.get(\"current_noun\"):\n",
        "        return \"Please click 'Show the Noun' first.\"\n",
        "\n",
        "    correct_answer = game_state[\"current_noun\"][\"Countability\"].strip().lower()\n",
        "    game_state[\"trials\"] += 1\n",
        "\n",
        "    if user_choice.lower() == correct_answer:\n",
        "        game_state[\"score\"] += 1\n",
        "        feedback = f\"✅Correct! {game_state['current_noun']['Word']} is {correct_answer} on page {game_state['page']}. Click 'Show the Noun' to continue.\"\n",
        "    else:\n",
        "        # Add the noun back to the remaining list for retry\n",
        "        game_state[\"remaining_nouns\"].insert(0, game_state[\"current_noun\"])\n",
        "        feedback = f\"❌Incorrect. {game_state['current_noun']['Word']} is actually {correct_answer}. It will appear again. Click 'Show the Noun' to continue.\"\n",
        "\n",
        "    if not game_state[\"remaining_nouns\"]:\n",
        "        feedback = f\"🎉 Great job, {game_state['nickname']}! All nouns have been answered correctly. (Score: {game_state['score']}/{game_state['trials']})\"\n",
        "\n",
        "    return feedback\n",
        "\n",
        "# Function to get page summary with noun count\n",
        "def get_page_summary():\n",
        "    summary = df.groupby(\"Page\").size().reset_index(name=\"Total\")\n",
        "    summary[\"Display\"] = summary[\"Page\"].astype(str) + \" (\" + summary[\"Total\"].astype(str) + \" nouns)\"\n",
        "    return summary[[\"Page\", \"Display\"]]\n",
        "\n",
        "# Gradio interface\n",
        "def main_interface(nickname, page, user_choice=None):\n",
        "    game_state[\"nickname\"] = nickname\n",
        "    game_state[\"page\"] = page\n",
        "\n",
        "    if game_state[\"remaining_nouns\"] is None:\n",
        "        return initialize_nouns(page), \"\"\n",
        "\n",
        "    if user_choice is None:\n",
        "        return show_random_noun(), f\"Score: {game_state['score']} / {game_state['trials']}\"\n",
        "\n",
        "    feedback = check_answer(user_choice)\n",
        "    return feedback, feedback\n",
        "\n",
        "# Prepare page choices\n",
        "page_summary = get_page_summary()\n",
        "page_choices = page_summary.set_index(\"Page\")[\"Display\"].to_dict()\n",
        "\n",
        "# Gradio app components\n",
        "with gr.Blocks() as app:\n",
        "    nickname = gr.Textbox(label=\"Enter your nickname:\")\n",
        "    page = gr.Dropdown(choices=list(page_choices.values()), label=\"Select your page:\")\n",
        "    show_button = gr.Button(\"Show the Noun\")\n",
        "    noun_display = gr.Textbox(label=\"Noun:\", interactive=False)\n",
        "    user_choice = gr.Radio(choices=[\"Countable\", \"Uncountable\"], label=\"Is the noun countable or uncountable?\")\n",
        "    submit_button = gr.Button(\"Submit Answer\")\n",
        "    feedback_display = gr.Textbox(label=\"Feedback and Score:\", interactive=False)\n",
        "\n",
        "    # Map display back to page for processing\n",
        "    def map_page_choice(display_choice):\n",
        "        return next(page for page, display in page_choices.items() if display == display_choice)\n",
        "\n",
        "    show_button.click(fn=lambda n, p: main_interface(n, map_page_choice(p)), inputs=[nickname, page], outputs=[noun_display, feedback_display])\n",
        "    submit_button.click(fn=lambda n, p, c: main_interface(n, map_page_choice(p), c), inputs=[nickname, page, user_choice], outputs=[feedback_display, feedback_display])\n",
        "\n",
        "app.launch()\n"
      ],
      "metadata": {
        "colab": {
          "base_uri": "https://localhost:8080/",
          "height": 652
        },
        "id": "5zaF6Dm8OYZO",
        "outputId": "cd0838db-f66a-4472-8a23-10652f1a2b3a"
      },
      "execution_count": null,
      "outputs": [
        {
          "output_type": "stream",
          "name": "stdout",
          "text": [
            "Running Gradio in a Colab notebook requires sharing enabled. Automatically setting `share=True` (you can turn this off by setting `share=False` in `launch()` explicitly).\n",
            "\n",
            "Colab notebook detected. To show errors in colab notebook, set debug=True in launch()\n",
            "* Running on public URL: https://35979c6aebb135a6fc.gradio.live\n",
            "\n",
            "This share link expires in 72 hours. For free permanent hosting and GPU upgrades, run `gradio deploy` from the terminal in the working directory to deploy to Hugging Face Spaces (https://huggingface.co/spaces)\n"
          ]
        },
        {
          "output_type": "display_data",
          "data": {
            "text/plain": [
              "<IPython.core.display.HTML object>"
            ],
            "text/html": [
              "<div><iframe src=\"https://35979c6aebb135a6fc.gradio.live\" width=\"100%\" height=\"500\" allow=\"autoplay; camera; microphone; clipboard-read; clipboard-write;\" frameborder=\"0\" allowfullscreen></iframe></div>"
            ]
          },
          "metadata": {}
        },
        {
          "output_type": "execute_result",
          "data": {
            "text/plain": []
          },
          "metadata": {},
          "execution_count": 8
        }
      ]
    }
  ]
}